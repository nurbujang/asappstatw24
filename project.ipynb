{
 "cells": [
  {
   "cell_type": "markdown",
   "metadata": {},
   "source": [
    "# Applied Statistics Winter 2024 Project\n",
    "\n",
    "**by Nur Bujang**\n",
    "\n",
    "project.ipynb\n",
    "***"
   ]
  },
  {
   "cell_type": "markdown",
   "metadata": {},
   "source": [
    "# Title: Analysis of PlantGrowth Data Set"
   ]
  },
  {
   "cell_type": "markdown",
   "metadata": {},
   "source": [
    "### Project Description\n",
    "\n",
    "Complete the project in a single notebook called `project.ipynb` in your repository.\n",
    "The same style should be used as detailed above: explanations in MarkDown and code comments, clean code, and regular commits.\n",
    "Use plots as appropriate.\n",
    "\n",
    "In this project, you will analyze the [PlantGrowth R dataset](https://vincentarelbundock.github.io/Rdatasets/csv/datasets/PlantGrowth.csv).\n",
    "You will find [a short description](https://vincentarelbundock.github.io/Rdatasets/doc/datasets/PlantGrowth.html) of it on [Vicent Arel-Bundock's Rdatasets page](https://vincentarelbundock.github.io/Rdatasets/).\n",
    "The dataset contains two main variables, a treatment group and the weight of plants within those groups.\n",
    "\n",
    "1. Download and save the dataset to your repository.\n",
    "\n",
    "2. Describe the data set in your notebook.\n",
    "\n",
    "3. Describe what a t-test is, how it works, and what the assumptions are.\n",
    "\n",
    "4. Perform a t-test to determine whether there is a significant difference between the two treatment groups trt1 and trt2.\n",
    "\n",
    "5. Perform ANOVA to determine whether there is a significant difference between the three treatment groups ctrl, trt1, and trt2.\n",
    "\n",
    "6. Explain why it is more appropriate to apply ANOVA rather than several t-tests when analyzing more than two groups.\n"
   ]
  },
  {
   "cell_type": "markdown",
   "metadata": {},
   "source": [
    "### Abstract\n",
    "\n"
   ]
  },
  {
   "cell_type": "markdown",
   "metadata": {},
   "source": [
    "### 1.0 Plan\n",
    "\n",
    "1. Download and save dataset\n",
    "    - import pandas as pd , import numpy as np\n",
    "    - url, df=pd.read_csv, df.to_csv\n",
    "    - df.head, df.tail\n",
    "\n",
    "2. Describe the data set\n",
    "    - df.info, df.describe\n",
    "\n",
    "3. Describe t-test, assumptions\n",
    "    - check for normality (qq, shapiro), equal variance (levene? bartlett), equal sample size, independence\n",
    "\n",
    "4. t-test for trt1 and trt2\n",
    "    - Set null and alternative hypothesis\n",
    "    - alpha\n",
    "    - import numpy as np, from scipy import stats\n",
    "    - separate group into trt1, trt2, crtl\n",
    "    - ttest_ind\n",
    "    - if statement to compare pval with alpha\n",
    "\n",
    "5. ANOVA for crtl, trt1, trt2 - assumptions\n",
    "    - Set null and alternative hypothesis\n",
    "    - alpha, crtl\n",
    "    - fstat,fpval = stats.f_oneway(crtl, trt1, trt2)\n",
    "    - if statement compare pval with alpha\n",
    "\n",
    "6. Why, for > 2 groups, ANOVA is more appropriate?"
   ]
  },
  {
   "cell_type": "markdown",
   "metadata": {},
   "source": [
    "### 2.0 Methods and Implementation"
   ]
  },
  {
   "cell_type": "markdown",
   "metadata": {},
   "source": [
    "### 2.1 Download and save dataset\n",
    "\n",
    "The PlantGrowth.csv dataset <a href=\"https://vincentarelbundock.github.io/Rdatasets/csv/datasets/PlantGrowth.csv\">(Arel-Bundock, n.d.)</a> was retrieved from <a href=\"https://vincentarelbundock.github.io/Rdatasets/doc/datasets/PlantGrowth.html\">(Arel-Bundock, n.d.)</a>.\n",
    "\n",
    "Because the data is separated by commas, pandas.read_csv was performed to read the values into a data frame <a href=\"https://pandas.pydata.org/docs/reference/api/pandas.read_csv.html\">(Pandas, n.d.)</a>. Later, the csv file was saved into the folder using df.to_csv <a href=\"https://pandas.pydata.org/docs/reference/api/pandas.DataFrame.to_csv.html\">(Pandas, n.d.)</a>.\n",
    "\n",
    "To ensure that the csv file was saved properly, df.head <a href=\"https://pandas.pydata.org/docs/reference/api/pandas.DataFrame.head.html\">(Pandas, n.d.)</a> and df.tail <a href=\"https://pandas.pydata.org/docs/reference/api/pandas.DataFrame.tail.html\">(Pandas, n.d.)</a> were performed to look at the first and last five lines of the dataset. "
   ]
  },
  {
   "cell_type": "code",
   "execution_count": 1,
   "metadata": {},
   "outputs": [
    {
     "data": {
      "text/html": [
       "<div>\n",
       "<style scoped>\n",
       "    .dataframe tbody tr th:only-of-type {\n",
       "        vertical-align: middle;\n",
       "    }\n",
       "\n",
       "    .dataframe tbody tr th {\n",
       "        vertical-align: top;\n",
       "    }\n",
       "\n",
       "    .dataframe thead th {\n",
       "        text-align: right;\n",
       "    }\n",
       "</style>\n",
       "<table border=\"1\" class=\"dataframe\">\n",
       "  <thead>\n",
       "    <tr style=\"text-align: right;\">\n",
       "      <th></th>\n",
       "      <th>rownames</th>\n",
       "      <th>weight</th>\n",
       "      <th>group</th>\n",
       "    </tr>\n",
       "  </thead>\n",
       "  <tbody>\n",
       "    <tr>\n",
       "      <th>0</th>\n",
       "      <td>1</td>\n",
       "      <td>4.17</td>\n",
       "      <td>ctrl</td>\n",
       "    </tr>\n",
       "    <tr>\n",
       "      <th>1</th>\n",
       "      <td>2</td>\n",
       "      <td>5.58</td>\n",
       "      <td>ctrl</td>\n",
       "    </tr>\n",
       "    <tr>\n",
       "      <th>2</th>\n",
       "      <td>3</td>\n",
       "      <td>5.18</td>\n",
       "      <td>ctrl</td>\n",
       "    </tr>\n",
       "    <tr>\n",
       "      <th>3</th>\n",
       "      <td>4</td>\n",
       "      <td>6.11</td>\n",
       "      <td>ctrl</td>\n",
       "    </tr>\n",
       "    <tr>\n",
       "      <th>4</th>\n",
       "      <td>5</td>\n",
       "      <td>4.50</td>\n",
       "      <td>ctrl</td>\n",
       "    </tr>\n",
       "  </tbody>\n",
       "</table>\n",
       "</div>"
      ],
      "text/plain": [
       "   rownames  weight group\n",
       "0         1    4.17  ctrl\n",
       "1         2    5.58  ctrl\n",
       "2         3    5.18  ctrl\n",
       "3         4    6.11  ctrl\n",
       "4         5    4.50  ctrl"
      ]
     },
     "execution_count": 1,
     "metadata": {},
     "output_type": "execute_result"
    }
   ],
   "source": [
    "import pandas as pd\n",
    "import numpy as np\n",
    "\n",
    "url = \"https://vincentarelbundock.github.io/Rdatasets/csv/datasets/PlantGrowth.csv\"\n",
    "df=pd.read_csv(url)\n",
    "df.to_csv(\"PlantGrowth.csv\", index=False)\n",
    "df.head()\n"
   ]
  },
  {
   "cell_type": "code",
   "execution_count": 2,
   "metadata": {},
   "outputs": [
    {
     "data": {
      "text/html": [
       "<div>\n",
       "<style scoped>\n",
       "    .dataframe tbody tr th:only-of-type {\n",
       "        vertical-align: middle;\n",
       "    }\n",
       "\n",
       "    .dataframe tbody tr th {\n",
       "        vertical-align: top;\n",
       "    }\n",
       "\n",
       "    .dataframe thead th {\n",
       "        text-align: right;\n",
       "    }\n",
       "</style>\n",
       "<table border=\"1\" class=\"dataframe\">\n",
       "  <thead>\n",
       "    <tr style=\"text-align: right;\">\n",
       "      <th></th>\n",
       "      <th>rownames</th>\n",
       "      <th>weight</th>\n",
       "      <th>group</th>\n",
       "    </tr>\n",
       "  </thead>\n",
       "  <tbody>\n",
       "    <tr>\n",
       "      <th>25</th>\n",
       "      <td>26</td>\n",
       "      <td>5.29</td>\n",
       "      <td>trt2</td>\n",
       "    </tr>\n",
       "    <tr>\n",
       "      <th>26</th>\n",
       "      <td>27</td>\n",
       "      <td>4.92</td>\n",
       "      <td>trt2</td>\n",
       "    </tr>\n",
       "    <tr>\n",
       "      <th>27</th>\n",
       "      <td>28</td>\n",
       "      <td>6.15</td>\n",
       "      <td>trt2</td>\n",
       "    </tr>\n",
       "    <tr>\n",
       "      <th>28</th>\n",
       "      <td>29</td>\n",
       "      <td>5.80</td>\n",
       "      <td>trt2</td>\n",
       "    </tr>\n",
       "    <tr>\n",
       "      <th>29</th>\n",
       "      <td>30</td>\n",
       "      <td>5.26</td>\n",
       "      <td>trt2</td>\n",
       "    </tr>\n",
       "  </tbody>\n",
       "</table>\n",
       "</div>"
      ],
      "text/plain": [
       "    rownames  weight group\n",
       "25        26    5.29  trt2\n",
       "26        27    4.92  trt2\n",
       "27        28    6.15  trt2\n",
       "28        29    5.80  trt2\n",
       "29        30    5.26  trt2"
      ]
     },
     "execution_count": 2,
     "metadata": {},
     "output_type": "execute_result"
    }
   ],
   "source": [
    "df.tail()"
   ]
  },
  {
   "cell_type": "markdown",
   "metadata": {},
   "source": [
    "### 2.2 Describe the data set\n",
    "\n",
    "To describe the basic information of the dataset, df.info was generated <a href=\"https://pandas.pydata.org/docs/reference/api/pandas.DataFrame.info.html\">(The Pandas Development Team, 2022)</a>. "
   ]
  },
  {
   "cell_type": "code",
   "execution_count": 3,
   "metadata": {},
   "outputs": [
    {
     "name": "stdout",
     "output_type": "stream",
     "text": [
      "<class 'pandas.core.frame.DataFrame'>\n",
      "RangeIndex: 30 entries, 0 to 29\n",
      "Data columns (total 3 columns):\n",
      " #   Column    Non-Null Count  Dtype  \n",
      "---  ------    --------------  -----  \n",
      " 0   rownames  30 non-null     int64  \n",
      " 1   weight    30 non-null     float64\n",
      " 2   group     30 non-null     object \n",
      "dtypes: float64(1), int64(1), object(1)\n",
      "memory usage: 852.0+ bytes\n"
     ]
    }
   ],
   "source": [
    "df.info()"
   ]
  },
  {
   "cell_type": "markdown",
   "metadata": {},
   "source": [
    "This dataset compares plant dried weight from a plant growth experiment subjected under control, treatment1, and treatment2 conditions. It contains 30 instances on three columns, which are rownames, weight, and group.\n",
    "\n",
    "Column rownames is a 64-bit integer type of whole numbers (without decimal points), and with no missing values. This seems to be row labels only and will not be included in the statistical analysis.\n",
    "\n",
    "Column weight is a 64-bit floating-point numbers data type, which contains decimal points. Even if the column contains both integers and floats, the column will assign it as floats to retain the decimal values <a href=\"https://datacarpentry.org/python-ecology-lesson/04-data-types-and-format.html\">(Gosset and Wright, 2017)</a>. Weight is a continuous numerical data, which is a type of quantitative data and can contain any number of measurements between two points <a href=\"https://www.g2.com/articles/discrete-vs-continuous-data#what-is-continuous-data\">(Zangre, 2024)</a>. This column has no missing values. Pandas default to float if there are missing values in case they have decimals <a href=\"https://datacarpentry.org/python-ecology-lesson/04-data-types-and-format.html\">(Gosset and Wright, 2017)</a>. In this dataset, weight contains the dried weight of plants in grams.\n",
    "\n",
    "Column group is of type object, without missing values. The object data type is often used for text or nominal categorical data type but can represent any data type, including strings, lists, integers, or custom objects <a href=\"https://numpy.org/devdocs/reference/arrays.dtypes.html\">(NumPy Developers, n.d.)</a>. Nominal categorical data is a type of qualitative categorical data that represents categories without specific ranking or order among them <a href=\"https://www.statisticssolutions.com/levels-of-measurement/\">(Statistics Solutions, 2017)</a>. In this dataset, group contains labels that represent three different conditions, which are control, treatment1, and treatment2."
   ]
  },
  {
   "cell_type": "code",
   "execution_count": 4,
   "metadata": {},
   "outputs": [
    {
     "data": {
      "text/html": [
       "<div>\n",
       "<style scoped>\n",
       "    .dataframe tbody tr th:only-of-type {\n",
       "        vertical-align: middle;\n",
       "    }\n",
       "\n",
       "    .dataframe tbody tr th {\n",
       "        vertical-align: top;\n",
       "    }\n",
       "\n",
       "    .dataframe thead th {\n",
       "        text-align: right;\n",
       "    }\n",
       "</style>\n",
       "<table border=\"1\" class=\"dataframe\">\n",
       "  <thead>\n",
       "    <tr style=\"text-align: right;\">\n",
       "      <th></th>\n",
       "      <th>weight</th>\n",
       "    </tr>\n",
       "  </thead>\n",
       "  <tbody>\n",
       "    <tr>\n",
       "      <th>count</th>\n",
       "      <td>30.000000</td>\n",
       "    </tr>\n",
       "    <tr>\n",
       "      <th>mean</th>\n",
       "      <td>5.073000</td>\n",
       "    </tr>\n",
       "    <tr>\n",
       "      <th>std</th>\n",
       "      <td>0.701192</td>\n",
       "    </tr>\n",
       "    <tr>\n",
       "      <th>min</th>\n",
       "      <td>3.590000</td>\n",
       "    </tr>\n",
       "    <tr>\n",
       "      <th>25%</th>\n",
       "      <td>4.550000</td>\n",
       "    </tr>\n",
       "    <tr>\n",
       "      <th>50%</th>\n",
       "      <td>5.155000</td>\n",
       "    </tr>\n",
       "    <tr>\n",
       "      <th>75%</th>\n",
       "      <td>5.530000</td>\n",
       "    </tr>\n",
       "    <tr>\n",
       "      <th>max</th>\n",
       "      <td>6.310000</td>\n",
       "    </tr>\n",
       "  </tbody>\n",
       "</table>\n",
       "</div>"
      ],
      "text/plain": [
       "          weight\n",
       "count  30.000000\n",
       "mean    5.073000\n",
       "std     0.701192\n",
       "min     3.590000\n",
       "25%     4.550000\n",
       "50%     5.155000\n",
       "75%     5.530000\n",
       "max     6.310000"
      ]
     },
     "execution_count": 4,
     "metadata": {},
     "output_type": "execute_result"
    }
   ],
   "source": [
    "# drop column rownames because they are labels only\n",
    "df.drop(columns=['rownames'], inplace=True)\n",
    "\n",
    "# describe dataset\n",
    "df.describe()\n",
    "\n",
    "# OR\n",
    "# exclude rownames because they are labels only\n",
    "#df.iloc[:, 1:].describe() # select all rows, column 1 onwards"
   ]
  },
  {
   "cell_type": "markdown",
   "metadata": {},
   "source": [
    "The PlantGrowth.csv is a complete dataset. 'Count' shows that columns rownames and weight contain 30 non-null (non-missing) values in 30 rows.\n",
    "\n",
    "Mean or average value is calculated by totaling the sum of all values and dividing it by the count, which pinpoints the general central location within the dataset <a href=\"https://statistics.laerd.com/statistical-guides/measures-central-tendency-mean-mode-median.php\">(Laerd Statistics, 2018)</a>. However, outliers can distort the mean, thus misrepresenting the average of the data <a href=\"https://www.speedcommerce.com/what-is/outlier/\">(Speed Commerce, 2023)</a>. The mean for weight is 5.073.\n",
    "\n",
    "Std (standard deviation) measures the dispersion of the data around the mean <a href=\"https://www.nlm.nih.gov/oet/ed/stats/02-900.html\">(National Library of Medicine, 2012)</a>. A low standard deviation indicates that the data is concentrated closely around the mean, and a high value indicates that the values are spread farther away from the mean <a href=\"https://en.wikipedia.org/wiki/Standard_deviation\">(Wikipedia Contributors, 2019)</a>. From the dataset, column weight is concentrated around the mean.\n",
    "\n",
    "Min is the smallest value in the dataset, however, if the value is extremely low, it could be an outlier <a href=\"https://study.com/academy/lesson/maximums-minimums-outliers-in-a-data-set-lesson-quiz.html\">(Cowley, 2021)</a>. The min for weight is 3.590.\n",
    "\n",
    "Quartiles split sorted data into four equal parts which provide an insight into the middle point and spread of the data, whether it is symmetrical or skewed and the presence of outliers <a href=\"https://en.wikipedia.org/wiki/Quartile\">(Wikipedia, 2021)</a>. If the lower quartile is farther from the median than the upper quartile, the distribution is negatively/left skewed with a longer left tail <a href=\"https://corporatefinanceinstitute.com/resources/data-science/negatively-skewed-distribution/\">(Taylor, 2022a)</a>. A positively/right-skewed distribution with a longer right tail occurs when <a href=\"https://corporatefinanceinstitute.com/resources/data-science/positively-skewed-distribution/\">(Taylor, 2022b)</a>.\n",
    "\n",
    "25th percentile or first quartile describes the spread of the lower section of the dataset. For column weight, 25% of the data is below 4.55 while the higher 75% data is above 4.55. The distance between the lower quartile and the median (0.605) is higher than the distance between the upper quartile and the median (0.375), suggesting a negatively-skewed (left-skewed) distribution for column weight.\n",
    "\n",
    "50th percentile / second quartile / median divides the sorted dataset into two equal portions (lower and upper) <a href=\"https://en.wikipedia.org/wiki/Median\">(Wikipedia, 2020)</a>. Half of the dataset in column weight is lower than 5.155.\n",
    "\n",
    "75th percentile or third quartile describes the upper segment of the dataset. 75% of the data for column weight is below 5.53 while the rest (higher 25%) are above 5.53.\n",
    "\n",
    "Finally, max is the biggest value in the data, which could be an outlier if the value is exceptionally high <a href=\"https://study.com/academy/lesson/maximums-minimums-outliers-in-a-data-set-lesson-quiz.html\">(Cowley, 2021)</a>. The max for weight is 6.310. "
   ]
  },
  {
   "cell_type": "markdown",
   "metadata": {},
   "source": [
    "### 2.3 Describe what a t-test is, how it works, and what the assumptions are\n",
    "\n",
    "### 2.3.1 T-test\n",
    "\n",
    "A Student's t-test is a statistical analysis used to compare the means of two groups to see if they are significantly different from each other <a href=\"https://en.wikipedia.org/wiki/Student%27s_t-test\">Wikipedia Contributors (2019c)</a>. The t-test is performed when data is limited (small sample size, n < 30) and assumed to have a normal distribution <a href=\"https://www.datacamp.com/tutorial/t-test-vs-z-test\">(Thevapalan, 2024)</a>. It is used in hypothesis testing where the test statistic follows a t-distribution, which resembles the standard normal distribution (bell-shaped and symmetrical) but with heavier tails <a href=\"https://en.wikipedia.org/wiki/Student%27s_t-distribution\">Wikipedia Contributors (2019b)</a>. The heavier tails account for the variability in small samples against the unknown population variance <a href=\"https://www.datacamp.com/tutorial/t-test-vs-z-test\">(Thevapalan, 2024)</a>.\n",
    "\n",
    "According to <a href=\"https://en.wikipedia.org/wiki/Student%27s_t-test\">Wikipedia Contributors (2019c)</a>, there are One-sample t-test, Independent (Unpaired)Two-sample t-test and Paired (Dependent) two-sample t-test. One-sample t-test determines whether the mean of one sample significantly deviates from a known population mean (alternative hypothesis) or equal to that standard (null hypothesis) <a href=\"https://www.datacamp.com/tutorial/t-test-vs-z-test\">(Thevapalan, 2024)</a>. The assumption is that the sample mean follows a normal distribution <a href=\"https://en.wikipedia.org/wiki/Student%27s_t-test\">Wikipedia Contributors (2019c)</a>. \n",
    "\n",
    "Independent (Unpaired) Two-sample t-test compares the means of two independent groups that are not correlated to determine if they are significantly different from each other (alternative hypothesis) or equal (null hypothesis) <a href=\"https://www.graphpad.com/guides/the-ultimate-guide-to-t-tests\">(GraphPad, 2024)</a>.\n",
    "\n",
    "Paired (Dependent) two-sample t-test compares means of matched pairs or the same group at different times or conditions (repeated measures) to see if they are significantly different from each other (alternative hypothesis) or equal (null hypothesis) <a href=\"https://www.graphpad.com/guides/the-ultimate-guide-to-t-tests\">(GraphPad, 2024)</a>. It is better in avoiding type II error (false negative) compared to Independent two-sample t-test <a href=\"https://en.wikipedia.org/wiki/Student%27s_t-test\">Wikipedia Contributors (2019c)</a>. "
   ]
  },
  {
   "cell_type": "markdown",
   "metadata": {},
   "source": [
    "### 2.3.2 How does a t-test work?\n",
    "\n",
    "- Determine which t-test to use and degrees of freedom\n",
    "\n",
    "Based on the experimental design, we can decide the type of t-test to perform, and therefore, the t-test formulae to use. Based on the data, we can calculate the degrees of freedom, which is the number of values that can vary in an analysis. Because the number of parameters we can estimate are restricted by available data, it is calculated by subtracting the number of parameters or relationships from the sample size <a href=\"https://statisticsbyjim.com/hypothesis-testing/degrees-freedom-statistics/\">(Frost, 2017)</a>. \n",
    "\n",
    "\n",
    "\n",
    "- Set up hypothesis\n",
    "\n",
    "The null hypothesis assumes that the two group means are not significantly different from each other ($ \\mu_1 = \\mu_2 $).\n",
    "\n",
    "The alternative hypothesis assumes that the two group means are significantly different from each other ($ \\mu_1 \\neq \\mu_2 $).\n",
    "\n",
    "check normality\n",
    "Test for Equality of Variances??? levene\n",
    " sample size =\n",
    "independence\n",
    "\n",
    "- Set an $\\alpha$ level\n",
    "\n",
    "The $\\alpha$ level is a treshold that determines the significance level of a test, which is the probability of rejecting the null hypothesis when the null hypothesis is true <a href=\"https://en.wikipedia.org/wiki/Statistical_significance\">Wikipedia Contributors (2019c)</a>. Later, $\\alpha$ will be compared with the $p$-value from the t-test. $p$-value is the likelihood of getting observed data when the null hypothesis is true <a href=\"https://en.wikipedia.org/wiki/P-value\">Wikipedia Contributors (2019a)</a>. If $p \\leq \\alpha$, we reject the null hypothesis, thus concluding that there is a significant difference. If $p > \\alpha$, we fail to reject the null hypothesis. \n",
    "\n",
    "- Calculate t-value\n",
    "\n",
    "One-sample t-test compares the mean of a single sample to a known value or hypothesized population mean, assessing whether the sample mean statistically and significantly differs from the reference value, while taking into account the variability within the sample <a href=\"https://www.graphpad.com/quickcalcs/onesamplet1/\">(GraphPad, n.d.)</a>.\n",
    "\n",
    "For an independent two-sample t-test, the test statistic is calculated by dividing the difference between the two sample means by the estimated standard error, which can be pooled or unpooled <a href=\"https://sites.utexas.edu/sos/guided/inferential/numeric/onecat/2-groups/independent/two-sample-t/\">(The University of Texas at Austin, n.d.)</a>. This standard error reflects the overall variation across both groups <a href=\"https://sites.utexas.edu/sos/guided/inferential/numeric/onecat/2-groups/independent/two-sample-t/\">(The University of Texas at Austin, n.d.)</a>.\n",
    "\n",
    "For paired two-sample t-test, the mean difference between two related groups is calculated by first computing the difference for each pair, then evaluating whether the average difference is statistically and significantly different from zero, while taking into account the variability of the differences across pairs <a href=\"https://en.wikipedia.org/wiki/P-value\">Wikipedia Contributors (2019a)</a>.\n"
   ]
  },
  {
   "cell_type": "markdown",
   "metadata": {},
   "source": [
    "### 2.3.3 Assumptions\n",
    "\n",
    "The assumptions that need to be met before conducting a Student's t-test are continuous/ordinal data, considerable sample size, independence (simple random sample), equal variances between groups, data is normally-distributed [(Maverick, 2021)](https://www.investopedia.com/ask/answers/073115/what-assumptions-are-made-when-conducting-ttest.asp).  \n",
    "\n",
    "#### 2.3.3.1 Continuous Data\n",
    "\n",
    "Continuous Data can take on an infinite number of possible values within a given range[(Wikipedia, 2020a)](https://www.mybib.com/#/projects/JXA5Xa/citations). It is measured on an interval (without absolute zero) or ratio scale (with absolute zero) [(EBM Consult, LLC, n.d.)](https://www.ebmconsult.com/articles/continuous-interval-or-ratio-scale-data). Continuous data is particularly suited for t-test because the test relies on accuracy in means calculations. The rationale for using continuous data for a t-test is it often approximates a normal distribution, which meets t-test's normality requirement [(Curtin University Library, n.d.)](https://uniskills.library.curtin.edu.au/numeracy/statistics/normal-distribution/) and provides a valid mean and standard deviation calculation in each group. Continuous data can be visualised in histograms, box plots and QQplots.\n",
    "\n",
    "#### 2.3.3.1.1 Histogram\n",
    "\n",
    "First, the plant dry weight were separated into trt1, trt2 and ctrl categories using df.groupby <a href=\"https://pandas.pydata.org/docs/reference/api/pandas.DataFrame.groupby.html\">(Pandas, n.d.)</a> where each unique values in column 'group' forms separate subgroups which includes corresponding weight values then puts it into a list."
   ]
  },
  {
   "cell_type": "code",
   "execution_count": 5,
   "metadata": {},
   "outputs": [],
   "source": [
    "# Form treatment subgroups from group\n",
    "\n",
    "dfgroup = df.groupby('group')['weight'].apply(list) # first group by treatment, then takes corresponding weight, then puts it into a list\n",
    "trt1w = dfgroup['trt1']\n",
    "trt2w = dfgroup['trt2']\n",
    "ctrlw = dfgroup['ctrl'] "
   ]
  },
  {
   "cell_type": "markdown",
   "metadata": {},
   "source": [
    "A histogram was generated using seaborn [(Waskom, n.d.)](https://seaborn.pydata.org/generated/seaborn.histplot.html) in 1x3 grid according to matplotlib [(Hunter et al., n.d.)](https://matplotlib.org/stable/api/_as_gen/matplotlib.pyplot.subplots.html)."
   ]
  },
  {
   "cell_type": "code",
   "execution_count": 12,
   "metadata": {},
   "outputs": [],
   "source": [
    "# import library\n",
    "\n",
    "import seaborn as sns\n",
    "import matplotlib.pyplot as plt"
   ]
  },
  {
   "cell_type": "code",
   "execution_count": 15,
   "metadata": {},
   "outputs": [
    {
     "name": "stderr",
     "output_type": "stream",
     "text": [
      "/home/rsalgo/anaconda3/envs/base_3.11/lib/python3.11/site-packages/seaborn/_oldcore.py:1498: FutureWarning: is_categorical_dtype is deprecated and will be removed in a future version. Use isinstance(dtype, CategoricalDtype) instead\n",
      "  if pd.api.types.is_categorical_dtype(vector):\n",
      "/home/rsalgo/anaconda3/envs/base_3.11/lib/python3.11/site-packages/seaborn/_oldcore.py:1119: FutureWarning: use_inf_as_na option is deprecated and will be removed in a future version. Convert inf values to NaN before operating instead.\n",
      "  with pd.option_context('mode.use_inf_as_na', True):\n",
      "/home/rsalgo/anaconda3/envs/base_3.11/lib/python3.11/site-packages/seaborn/_oldcore.py:1498: FutureWarning: is_categorical_dtype is deprecated and will be removed in a future version. Use isinstance(dtype, CategoricalDtype) instead\n",
      "  if pd.api.types.is_categorical_dtype(vector):\n",
      "/home/rsalgo/anaconda3/envs/base_3.11/lib/python3.11/site-packages/seaborn/_oldcore.py:1119: FutureWarning: use_inf_as_na option is deprecated and will be removed in a future version. Convert inf values to NaN before operating instead.\n",
      "  with pd.option_context('mode.use_inf_as_na', True):\n",
      "/home/rsalgo/anaconda3/envs/base_3.11/lib/python3.11/site-packages/seaborn/_oldcore.py:1498: FutureWarning: is_categorical_dtype is deprecated and will be removed in a future version. Use isinstance(dtype, CategoricalDtype) instead\n",
      "  if pd.api.types.is_categorical_dtype(vector):\n",
      "/home/rsalgo/anaconda3/envs/base_3.11/lib/python3.11/site-packages/seaborn/_oldcore.py:1119: FutureWarning: use_inf_as_na option is deprecated and will be removed in a future version. Convert inf values to NaN before operating instead.\n",
      "  with pd.option_context('mode.use_inf_as_na', True):\n"
     ]
    },
    {
     "data": {
      "image/png": "[encoded data removed]",
      "text/plain": [
       "<Figure size 1500x500 with 3 Axes>"
      ]
     },
     "metadata": {},
     "output_type": "display_data"
    }
   ],
   "source": [
    "# Generate histogram for trt1, trt2 and ctrl\n",
    "\n",
    "fig, axes = plt.subplots(1, 3, figsize=(15, 5))  # 1 row x 3 columns grid\n",
    "\n",
    "sns.histplot(trt1w, bins=5, color='blue', ax=axes[0])\n",
    "axes[0].set_title('Histogram of Treatment 1')\n",
    "\n",
    "sns.histplot(trt2w, bins=5, color='green', ax=axes[1])\n",
    "axes[1].set_title('Histogram of Treatment 2')\n",
    "\n",
    "sns.histplot(ctrlw, bins=5, color='red', ax=axes[2])\n",
    "axes[2].set_title('Histogram of Control')\n",
    "\n",
    "plt.tight_layout()\n",
    "plt.show();"
   ]
  },
  {
   "cell_type": "markdown",
   "metadata": {},
   "source": [
    "The histogram for all 3 treatments are not informative enough, so box plot was generated."
   ]
  },
  {
   "cell_type": "markdown",
   "metadata": {},
   "source": [
    "#### 2.3.3.1.2 Box Plot\n",
    "\n",
    "A box plot was generated using seaborn [(Waskom, n.d.)](https://seaborn.pydata.org/generated/seaborn.boxplot.html) and [(GeeksforGeeks, 2024)](https://www.geeksforgeeks.org/add-a-legend-to-a-seaborn-plots/). "
   ]
  },
  {
   "cell_type": "code",
   "execution_count": 29,
   "metadata": {},
   "outputs": [
    {
     "data": {
      "text/plain": [
       "<matplotlib.legend.Legend at 0x7f87cb86ac10>"
      ]
     },
     "execution_count": 29,
     "metadata": {},
     "output_type": "execute_result"
    },
    {
     "data": {
      "image/png": "[encoded data removed]",
      "text/plain": [
       "<Figure size 1000x500 with 1 Axes>"
      ]
     },
     "metadata": {},
     "output_type": "display_data"
    }
   ],
   "source": [
    "# Generate box plot for trt1, trt2 and ctrl\n",
    "\n",
    "plt.figure(figsize=(10, 5))\n",
    "sns.boxplot(data=[trt1w, trt2w, ctrlw])\n",
    "plt.title('Box Plot of trt1, trt2, and ctrl')\n",
    "plt.legend(labels=['trt1', 'trt2', 'ctrl'], loc= \"upper right\")"
   ]
  },
  {
   "cell_type": "markdown",
   "metadata": {},
   "source": []
  },
  {
   "cell_type": "markdown",
   "metadata": {},
   "source": [
    "#### 2.3.3.2 Sample size \n",
    "\n",
    "equal and considerable\n",
    "\n",
    "#### 2.3.3.3 Independence and Random Sampling\n",
    "\n",
    "The second assumption is independent observations where the sample is a simple random sample [(Shaker, n.d.)](https://bookdown.org/content/f9d035ed-86ea-4779-ad01-31acc973f0dd/1.1-assumptions-independent-samples-t-test.html). \n",
    "\n",
    "independence https://en.wikipedia.org/wiki/Independence_(probability_theory)\n",
    "https://www.graphpad.com/guides/the-ultimate-guide-to-t-tests\n",
    "https://www.investopedia.com/terms/t/t-test.asp\n",
    "\n",
    "Some examples of statistical tests used to check for randomness in sampling are Chi-Square Goodness-of-Fit Test, Kolmogorov-Smirnov (K-S) Test and Runs Test (Wald-Wolfowitz Test). \n",
    "\n",
    "Here, the Chi-Squared Goodness-of-Fit Test <a href=\"https://en.wikipedia.org/wiki/Chi-squared_test\">(Wikipedia Contributors, 2019a)</a> was performed with stats.chisquare according to <a href=\"https://docs.scipy.org/doc/scipy/reference/generated/scipy.stats.chisquare.html\">(The SciPy community, n.d.)</a>. "
   ]
  },
  {
   "cell_type": "markdown",
   "metadata": {},
   "source": [
    "#### 2.3.3.4 Homogeneity of Variance\n",
    "\n",
    "variances are equal across groups \n",
    "\n",
    "levene? bartlett https://en.wikipedia.org/wiki/F-test_of_equality_of_variances\n",
    "\n",
    "\n",
    "#### 2.3.3.4.1 Levene's Ttst / Bartlett's Test"
   ]
  },
  {
   "cell_type": "code",
   "execution_count": null,
   "metadata": {},
   "outputs": [],
   "source": []
  },
  {
   "cell_type": "markdown",
   "metadata": {},
   "source": [
    "#### 2.3.3.5 Test for Normality with Shapiro-Wilk Test\n",
    "\n",
    "#### 2.3.3.5.1 QQplot\n",
    "\n",
    "Before performing Shapiro test, a qqplot was generated using matplotlib <a href=\"https://matplotlib.org/stable/api/_as_gen/matplotlib.pyplot.subplots.html\">(Hunter et al., n.d.)</a> and stats.probplot <a href=\"https://www.statsmodels.org/stable/generated/statsmodels.graphics.gofplots.qqplot.html\">(Perktold et al., 2009)</a> to form the assumption that the data is normally distributed. Qqplot compares the quantiles of the data with the quantiles of a theoretical normal distribution.\n",
    "\n",
    "The scipy.stats library was imported according to <a href=\"https://docs.scipy.org/doc/scipy/reference/stats.html\">(The SciPy community, 2019)</a> and <a href=\"https://github.com/ianmcloughlin/2425_applied_statistics\">McLoughlin (2024)</a>."
   ]
  },
  {
   "cell_type": "code",
   "execution_count": null,
   "metadata": {},
   "outputs": [],
   "source": [
    "from scipy import stats\n",
    "import scipy.stats as stats\n",
    "from scipy.stats import norm\n",
    "import statsmodels as sm\n",
    "\n",
    "# Determine significance level, alpha\n",
    "alpha = 0.05"
   ]
  },
  {
   "cell_type": "markdown",
   "metadata": {},
   "source": []
  },
  {
   "cell_type": "code",
   "execution_count": null,
   "metadata": {},
   "outputs": [],
   "source": []
  },
  {
   "cell_type": "code",
   "execution_count": null,
   "metadata": {},
   "outputs": [],
   "source": [
    "# Generate Q-Q plots for each group\n",
    "\n",
    "plt.figure(figsize=(12, 4))\n",
    "\n",
    "plt.subplot(1, 3, 1) # in grid 1 row, 3 columns, first plot\n",
    "stats.probplot(trt1w, dist=\"norm\", plot=plt) # subplot for trt1\n",
    "plt.title(\"Q-Q Plot for Treatment 1\")\n",
    "\n",
    "# Q-Q plot for treatment group 2\n",
    "plt.subplot(1, 3, 2) # in grid 1 row, 3 columns, second plot\n",
    "stats.probplot(trt2w, dist=\"norm\", plot=plt) # subplot for trt2\n",
    "plt.title(\"Q-Q Plot for Treatment 2\")\n",
    "\n",
    "# Q-Q plot for control group\n",
    "plt.subplot(1, 3, 3) # in grid 1 row, 3 columns, third plot\n",
    "stats.probplot(ctrlw, dist=\"norm\", plot=plt) # subplot for crtl\n",
    "plt.title(\"Q-Q Plot for Control\")\n",
    "\n",
    "plt.tight_layout()\n",
    "plt.show()"
   ]
  },
  {
   "cell_type": "markdown",
   "metadata": {},
   "source": [
    "The probability plots show that the data mostly deviates from the straight line. That and  given the small sample size, it is difficult to say that it approximately follows normal distribution. "
   ]
  },
  {
   "cell_type": "markdown",
   "metadata": {},
   "source": [
    "#### 2.3.3.5.2 Shapiro-Wilk Test\n",
    "\n",
    "Next, Shapiro-Wilk test was performed according to <a href=\"https://scipy.github.io/devdocs/reference/generated/scipy.stats.shapiro.html\">The SciPy community (2024)</a>.\n",
    "It tests whether there is evidence to suggest that the data is not normally distributed <a href=\"https://github.com/ianmcloughlin/2425_applied_statistics\">McLoughlin (2024)</a>.\n",
    "\n",
    "For Shapiro-Wilk test, the hypotheses are:\n",
    "\n",
    "**Null Hypothesis assumes that the data is normally distributed <a href=\"https://scipy.github.io/devdocs/reference/generated/scipy.stats.shapiro.html\">(The SciPy community, 2024)</a>.**\n",
    "\n",
    "**The Alternative Hypothesis assumes that data is not normally distributed.**"
   ]
  },
  {
   "cell_type": "code",
   "execution_count": null,
   "metadata": {},
   "outputs": [],
   "source": [
    "# Perform Shapiro-Wilk on weight data from trt1, trt2 and crtl\n",
    "\n",
    "shaptrt1, pshaptrt1 = stats.shapiro(trt1w)\n",
    "shaptrt2, pshaptrt2 = stats.shapiro(trt2w)\n",
    "shapctrl, pshapctrl = stats.shapiro(ctrlw)\n",
    "\n",
    "shaptrt1, pshaptrt1, shaptrt2, pshaptrt2, shapctrl, pshapctrl"
   ]
  },
  {
   "cell_type": "code",
   "execution_count": null,
   "metadata": {},
   "outputs": [],
   "source": [
    "if pshaptrt1 < alpha:\n",
    "    print(\"Null Hypothesis is rejected. There is evidence to conclude that data is not normally distributed in Treatment 1.\")\n",
    "else:\n",
    "    print(\"Null Hypothesis cannot be rejected. There is no evidence to suggest that data is not normally distributed in Treatment 1.\")"
   ]
  },
  {
   "cell_type": "code",
   "execution_count": null,
   "metadata": {},
   "outputs": [],
   "source": [
    "if pshaptrt2 < alpha:\n",
    "    print(\"Null Hypothesis is rejected. There is evidence to conclude that data is not normally distributed in Treatment 2.\")\n",
    "else:\n",
    "    print(\"Null Hypothesis cannot be rejected. There is no evidence to suggest that data is not normally distributed in Treatment 2.\")"
   ]
  },
  {
   "cell_type": "code",
   "execution_count": null,
   "metadata": {},
   "outputs": [],
   "source": [
    "if pshapctrl < alpha:\n",
    "    print(\"Null Hypothesis is rejected. There is evidence to conclude that data is not normally distributed in Control.\")\n",
    "else:\n",
    "    print(\"Null Hypothesis cannot be rejected. There is no evidence to suggest that data is not normally distributed in Control.\")"
   ]
  },
  {
   "cell_type": "markdown",
   "metadata": {},
   "source": [
    "### 2.4 Perform a t-test to determine whether there is a significant difference between the two treatment groups trt1 and trt2\n",
    "\n",
    "#### 2.4.1 Independent Two-Sample T-test\n",
    "\n",
    "When all assumptions for t-test have been satisfied, t-test was performed. Independent (unpaired) Two-sample t-test was selected because trt1 and trt2 are two sets of independent samples <a href=\"https://docs.scipy.org/doc/scipy/reference/generated/scipy.stats.ttest_ind.html\">(The SciPy community, n.d.)</a>. The formula for this t-test is: \n",
    "$$\n",
    "t = \\frac{\\bar{X}_1 - \\bar{X}_2}{\\sqrt{\\frac{s_1^2}{n_1} + \\frac{s_2^2}{n_2}}}\n",
    "$$\n",
    "\n",
    "where:\n",
    "- $ \\bar{X}_1 $ and $ \\bar{X}_2 $ are the sample means,\n",
    "- $ s_1 $ and $ s_2 $ are the sample standard deviations,\n",
    "- $ n_1 $ and $ n_2 $ are the sample sizes.\n",
    "\n",
    "Here, the test statistic is calculated by dividing the difference between the two sample means by the estimated standard error, which can be pooled or unpooled and the estimated standard error represents the combined variation across both groups <a href=\"https://sites.utexas.edu/sos/guided/inferential/numeric/onecat/2-groups/independent/two-sample-t/\">(The University of Texas at Austin, n.d.)</a>.\n",
    "\n",
    "Two-sided because I am only interested in any change between the two means."
   ]
  },
  {
   "cell_type": "markdown",
   "metadata": {},
   "source": [
    "First, the hypotheses were set: \n",
    "\n",
    "**Null Hypothesis assumes that trt1 and trt2 means are equal.**\n",
    "\n",
    "**Alternative Hypothesis assumes that trt1 and trt2 means are not equal.**"
   ]
  },
  {
   "cell_type": "code",
   "execution_count": null,
   "metadata": {},
   "outputs": [],
   "source": [
    "# import library \n",
    "#from scipy.stats import ttest_ind"
   ]
  },
  {
   "cell_type": "code",
   "execution_count": null,
   "metadata": {},
   "outputs": [],
   "source": [
    "# Run t-test for trt1 and trt2\n",
    "\n",
    "ttest, ttpval = stats.ttest_ind(trt1w, trt2w, alternative='two-sided')\n",
    "ttest, ttpval"
   ]
  },
  {
   "cell_type": "code",
   "execution_count": null,
   "metadata": {},
   "outputs": [],
   "source": [
    "if ttpval < alpha:\n",
    "    print(\"Null Hypothesis is rejected. There is evidence to conclude that there is a difference in plant dry weight between trt1 and trt2.\")\n",
    "    \n",
    "else:\n",
    "    print(\"Null Hypothesis cannot be rejected. We can continue to assume that there is no difference in plant dry weight between trt1 and trt2.\")"
   ]
  },
  {
   "cell_type": "markdown",
   "metadata": {},
   "source": [
    "### 2.5 Perform ANOVA to determine whether there is a significant difference between the three treatment groups ctrl, trt1, and trt2\n",
    "\n",
    "According to <a href=\"https://www.questionpro.com/blog/anova-testing/#Types_of_ANOVA_testing\">Timpany (2016)</a>, there are many types of anova\n",
    "\n",
    "**Assumptions for ANOVA**\n",
    "\n",
    "According to <a href=\"https://real-statistics.com/one-way-analysis-of-variance-anova/assumptions-anova/\">(Howell, 2010)</a>, the assumptions for ANOVA are normally distributed data, equal variances, unrelated samples, randomly sampled and independent observations and the effects of the factors are cumulative. The tests for normality, equality of variances, equal sample size and independence have satisfied the conditions of ANOVA.\n",
    "\n",
    "#### 2.5.1 One-way ANOVA\n",
    "\n",
    "One-way ANOVA was performed on the three conditions according to <a href=\"https://docs.scipy.org/doc/scipy/reference/generated/scipy.stats.f_oneway.html\">The SciPy community (2014)</a> by comparing the variance within each condition to the variance between conditions. "
   ]
  },
  {
   "cell_type": "markdown",
   "metadata": {},
   "source": [
    "First, the hypotheses were set: \n",
    "\n",
    "**Null Hypothesis assumes that there is no difference in means among crtl, trt1 and trt2.**\n",
    "\n",
    "**Alternative Hypothesis assumes that there is a difference in means among crtl, trt1 and trt2.**\n",
    "\n",
    "$\\alpha$ = 0.05"
   ]
  },
  {
   "cell_type": "markdown",
   "metadata": {},
   "source": [
    "The scipy.stats library <a href=\"https://docs.scipy.org/doc/scipy/reference/stats.html\">(The SciPy community, 2019)</a> has been imported. One-way ANOVA, stats.f_oneway is available in the library.\n",
    "\n",
    "Treatments trt1 and trt2 were already instantiated above.\n"
   ]
  },
  {
   "cell_type": "code",
   "execution_count": null,
   "metadata": {},
   "outputs": [],
   "source": [
    "# Perform ANOVA for all treatments\n",
    "\n",
    "fstat, fpval = stats.f_oneway(trt1w, trt2w, ctrlw)\n",
    "fstat, fpval"
   ]
  },
  {
   "cell_type": "code",
   "execution_count": null,
   "metadata": {},
   "outputs": [],
   "source": [
    "if ttpval < alpha:\n",
    "    print(\"Null Hypothesis is rejected. There is evidence to conclude that there is a difference in means among crtl, trt1 and trt2.\")\n",
    "else:\n",
    "    print(\"Null Hypothesis cannot be rejected. We can continue to assume that there is no difference in means among crtl, trt1 and trt2.\")"
   ]
  },
  {
   "cell_type": "markdown",
   "metadata": {},
   "source": [
    "### 2.6 Explain why it is more appropriate to apply ANOVA rather than several t-tests when analyzing more than two groups\n",
    "\n",
    "For more than two groups, ANOVA offers a simple, one-step test to compare all means compared to pairwise tests. It is quicker, more efficient, and prevents confusion because all the means are compared simultaneously instead of analysing different pair combinations from multiple groups. This is especially difficult when the number of groups is high, making calculations more unmanageable, making interpretations difficult, and increasing the chance of making mistakes.\n",
    "\n",
    "Because each test carries its own risk of Type I error (false positive by incorrectly rejecting true null) <a href=\"https://en.wikipedia.org/wiki/Type_I_and_type_II_errors\">(Wikipedia, 2021b)</a> if each test has a 5% chance of Type I error, multiple pairwise t-tests will cumulatively inflate this risk. In contrast, the Type I error for a single ANOVA test will remain at a 5% chance, regardless of the number of groups.\n",
    "\n",
    "According to <a href=\"https://en.wikipedia.org/wiki/Power_(statistics)\">Wikipedia Contributors (2019d)</a>, the power of test is the probability of correctly rejecting the null hypothesis when the alternative hypothesis is true. When testing multiple hypotheses for more than two groups, the chance of Type I error (false positive) increases, thus requiring the need for Bonferroni correction <a href=\"https://en.wikipedia.org/wiki/Bonferroni_correction\">Wikipedia Contributors (2019d)</a>. Because Bonferroni correction tests each hypothesis at alpha/number of hypothesis, the smaller corrected alpha level requires stronger evidence to reach significance, thus increasing the risk of a Type II error <a href=\"https://en.wikipedia.org/wiki/Bonferroni_correction\">Wikipedia Contributors (2019d)</a>. Type II error or false negative is failing to reject a false null hypothesis <a href=\"https://en.wikipedia.org/wiki/Type_I_and_type_II_errors\">(Wikipedia, 2021b)</a>, which consequently lowers the probability of detecting a real effect for each test compared to ANOVA.\n",
    "\n",
    "ANOVA is better for multiple groups because it divides variance into Within-Group Variance and Between-Group Variance. The F-statistic for ANOVA  is the ratio of variance between treatments to variance within treatments (or error variance) <a href=\"https://en.wikipedia.org/wiki/Analysis_of_variance\">(Wikipedia Contributors, 2019a)</a>. According to <a href=\"https://blog.minitab.com/en/adventures-in-statistics-2/understanding-analysis-of-variance-anova-and-the-f-test\">(Minitab, 2016)</a>, the denominator Mean Square Within (MSW), which is the pooled estimate of within-group variance, is like a background noise whose values should be low to be able to differentiate between signal (differences between group means) and noise (random variability within groups). The pooled variance also provides a more precise variance estimation because of the larger data pool from all combined groups and a reduced influence of outliers <a href=\"https://en.wikipedia.org/wiki/Pooled_variance\">(Wikipedia Contributors, 2024)</a>. This higher variance precision increases the statistical power of the test to detect true differences and reduces the chance of Type II errors (failing to detect a true effect) <a href=\"https://en.wikipedia.org/wiki/Pooled_variance\">(Wikipedia Contributors, 2024)</a>. On the other hand, the pairwise comparison of highly variable individual variances, when repeated across multiple pairs in multiple t-tests, will result in low statistical power.\n",
    "\n",
    "One could argue that because ANOVA's overall hypothesis testing does not specify which group has a significantly different mean, while with a t-test, we can identify whether a mean is significantly greater than or less than the other. However, one can always proceed with a post hoc test to identify where the differences lie such as Student–Newman–Keuls (SNK) test and Tukey's HSD (honestly significant difference) test <a href=\"https://www.ibm.com/docs/en/spss-statistics/beta?topic=anova-one-way-post-hoc-tests\">(IBM Corporation, n.d.)</a>. Student–Newman–Keuls (SNK) is a stepwise, pairwise comparison method where means are ordered from highest to lowest and compared starting from the closest ranks and then moving further <a href=\"https://en.wikipedia.org/wiki/Newman%E2%80%93Keuls_method\">(Wikipedia Contributors, 2020)</a>. Tukey's HSD (honestly significant difference) test is a single-step method that compares all possible pairs of group means Means are ordered from highest to lowest <a href=\"https://en.wikipedia.org/wiki/Tukey%27s_range_test\">(Wikipedia Contributors, 2019h)</a>. "
   ]
  },
  {
   "cell_type": "markdown",
   "metadata": {},
   "source": [
    "## 3.0 Conclusion"
   ]
  },
  {
   "cell_type": "markdown",
   "metadata": {},
   "source": [
    "## 4.0 References\n",
    "\n"
   ]
  },
  {
   "cell_type": "markdown",
   "metadata": {},
   "source": [
    "***\n",
    "\n",
    "## End of project.ipynb"
   ]
  }
 ],
 "metadata": {
  "kernelspec": {
   "display_name": "base_3.11",
   "language": "python",
   "name": "python3"
  },
  "language_info": {
   "codemirror_mode": {
    "name": "ipython",
    "version": 3
   },
   "file_extension": ".py",
   "mimetype": "text/x-python",
   "name": "python",
   "nbconvert_exporter": "python",
   "pygments_lexer": "ipython3",
   "version": "3.11.5"
  }
 },
 "nbformat": 4,
 "nbformat_minor": 2
}
