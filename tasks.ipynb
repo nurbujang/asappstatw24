{
 "cells": [
  {
   "cell_type": "markdown",
   "metadata": {},
   "source": [
    "# Applied Statistics Winter 2024 Tasks\n",
    "\n",
    "**by Nur Bujang**\n",
    "\n",
    "tasks.ipynb\n",
    "***"
   ]
  },
  {
   "cell_type": "markdown",
   "metadata": {},
   "source": [
    "# Task 1: Permutations and Combinations\n",
    "\n",
    "Suppose we alter the Lady Tasting Tea experiment to involve twelve cups of tea.\n",
    "Six have the milk in first and the other six having tea in first.\n",
    "A person claims they have the special power of being able to tell whether the tea or the milk went into a cup first upon tasting it.\n",
    "\n",
    "You agree to accept their claim if they can tell which of the six cups in your experiment had the **milk in first**.\n",
    "\n",
    "Calculate, using Python, the probability that they select the **correct six cups**.\n",
    "Here you should assume that they have no special powers in figuring it out, that they are just guessing.\n",
    "Remember to show and justify your workings in code and MarkDown cells.\n",
    "\n",
    "Suppose, now, you are willing to accept one error.\n",
    "Once they select the six cups they think had the milk in first, you will give them the benefit of the doubt should they have selected at least five of the correct cups.\n",
    "Calculate the probability, assuming they have no special powers, that the person **makes at most one error**.\n",
    "\n",
    "Would you accept two errors? Explain."
   ]
  },
  {
   "cell_type": "markdown",
   "metadata": {},
   "source": [
    "## Plan\n",
    "\n",
    "- Set null and alternative hypothesis\n",
    "- import libraries\n",
    "- instantiate variables - totalcups, milkfirst, teafirst, allways\n",
    "- Get all 6 correct - 1/all possibilities\n",
    "    -math.comb - no repetition, no order\n",
    "    - sixcorr, probsixcorr\n",
    "- Get 5/6 (1 error) and 6/6 correct\n",
    "    - fivecorronein, fivesixcorr, probfivesixcorr\n",
    "- Get 4/6 correct (2 errors)\n",
    "    - fourcorrtwoin, fourfivesixcorr, probfourfivesixcorr"
   ]
  },
  {
   "cell_type": "markdown",
   "metadata": {},
   "source": [
    "## Methods and Implementation\n",
    "\n",
    "Null Hypothesis assumes that the lady cannot tell the difference between tea first or milk first.\n",
    "\n",
    "Alternative Hypothesis assumes that the lady can tell the difference between tea first or milk first."
   ]
  },
  {
   "cell_type": "code",
   "execution_count": 49,
   "metadata": {},
   "outputs": [
    {
     "data": {
      "text/plain": [
       "1"
      ]
     },
     "execution_count": 49,
     "metadata": {},
     "output_type": "execute_result"
    }
   ],
   "source": [
    "# import library\n",
    "import math\n",
    "\n",
    "alpha = 0.05\n",
    "\n",
    "# instantiate variables\n",
    "totalcups = 12\n",
    "milkfirst = 6\n",
    "teafirst = 6\n",
    "sixcorr = math.comb(6,6)\n",
    "sixcorr"
   ]
  },
  {
   "cell_type": "markdown",
   "metadata": {},
   "source": [
    "I use math.comb <a href=\"https://docs.python.org/3/library/math.html#math.comb\">(Python Software Foundation, 2024)</a> to pick k from n without repetition nor order, as shown also by <a href=\"https://github.com/ianmcloughlin/2425_applied_statistics\">McLoughlin (2024)</a>."
   ]
  },
  {
   "cell_type": "code",
   "execution_count": 50,
   "metadata": {},
   "outputs": [
    {
     "data": {
      "text/plain": [
       "924"
      ]
     },
     "execution_count": 50,
     "metadata": {},
     "output_type": "execute_result"
    }
   ],
   "source": [
    "allways = math.comb(totalcups, milkfirst) # where k are picked from n\n",
    "allways"
   ]
  },
  {
   "cell_type": "code",
   "execution_count": 51,
   "metadata": {},
   "outputs": [
    {
     "data": {
      "text/plain": [
       "0.0010822510822510823"
      ]
     },
     "execution_count": 51,
     "metadata": {},
     "output_type": "execute_result"
    }
   ],
   "source": [
    "# The probability that she randomly selects the correct 6 cups\n",
    "probsixcorr = sixcorr / allways\n",
    "probsixcorr"
   ]
  },
  {
   "cell_type": "markdown",
   "metadata": {},
   "source": [
    "For guessing 6/6 cups correctly, the probability is 0.001 or 0.1%. "
   ]
  },
  {
   "cell_type": "code",
   "execution_count": 52,
   "metadata": {},
   "outputs": [
    {
     "data": {
      "text/plain": [
       "36"
      ]
     },
     "execution_count": 52,
     "metadata": {},
     "output_type": "execute_result"
    }
   ],
   "source": [
    "# Ways that she randomly selects 5 correct cups, 1 error\n",
    "fivecorronein = math.comb(6, 5) * math.comb(6, 1)\n",
    "fivecorronein"
   ]
  },
  {
   "cell_type": "code",
   "execution_count": 53,
   "metadata": {},
   "outputs": [
    {
     "data": {
      "text/plain": [
       "37"
      ]
     },
     "execution_count": 53,
     "metadata": {},
     "output_type": "execute_result"
    }
   ],
   "source": [
    "# Ways that she makes 1 error + no error\n",
    "fivesixcorr = fivecorronein + sixcorr\n",
    "fivesixcorr"
   ]
  },
  {
   "cell_type": "code",
   "execution_count": 54,
   "metadata": {},
   "outputs": [
    {
     "data": {
      "text/plain": [
       "0.04004329004329004"
      ]
     },
     "execution_count": 54,
     "metadata": {},
     "output_type": "execute_result"
    }
   ],
   "source": [
    "# The probability that she makes 1 error + no error\n",
    "probfivesixcorr = fivesixcorr / allways\n",
    "probfivesixcorr "
   ]
  },
  {
   "cell_type": "code",
   "execution_count": 55,
   "metadata": {},
   "outputs": [
    {
     "name": "stdout",
     "output_type": "stream",
     "text": [
      "Null Hypothesis is rejected. There is evidence to conclude that the lady can tell the difference between tea first or milk first.\n"
     ]
    }
   ],
   "source": [
    "if probfivesixcorr < alpha:\n",
    "    print(\"Null Hypothesis is rejected. There is evidence to conclude that the lady can tell the difference between tea first or milk first.\")\n",
    "    \n",
    "else:\n",
    "    print(\"Null Hypothesis cannot be rejected. We can continue to assume that the lady cannot tell the difference between tea first or milk first.\")"
   ]
  },
  {
   "cell_type": "markdown",
   "metadata": {},
   "source": [
    "For making at most 1 error, the probability is 0.04. Because probfivesixcorr < alpha, at the significance level, alpha=0.05 <a href=\"https://en.wikipedia.org/wiki/Statistical_significance\">(Wikipedia Contributors, 2019)</a>, we can reject the null hypothesis. There is evidence to conclude that the lady can tell the difference between tea first or milk first."
   ]
  },
  {
   "cell_type": "code",
   "execution_count": 56,
   "metadata": {},
   "outputs": [
    {
     "data": {
      "text/plain": [
       "0.28354978354978355"
      ]
     },
     "execution_count": 56,
     "metadata": {},
     "output_type": "execute_result"
    }
   ],
   "source": [
    "# The probability that she randomly selects 4 correct cups, 2 error\n",
    "fourcorrtwoin = math.comb(6, 4) * math.comb(6, 2)\n",
    "fourfivesixcorr = fourcorrtwoin + fivesixcorr\n",
    "\n",
    "# The probability that she makes 2 error + 1 error + no error\n",
    "probfourfivesixcorr = fourfivesixcorr / allways\n",
    "probfourfivesixcorr"
   ]
  },
  {
   "cell_type": "code",
   "execution_count": 57,
   "metadata": {},
   "outputs": [
    {
     "name": "stdout",
     "output_type": "stream",
     "text": [
      "Null Hypothesis cannot be rejected. We can continue to assume that the lady cannot tell the difference between tea first or milk first.\n"
     ]
    }
   ],
   "source": [
    "if probfourfivesixcorr < alpha:\n",
    "    print(\"Null Hypothesis is rejected. There is evidence to conclude that the lady can tell the difference between tea first or milk first.\")\n",
    "    \n",
    "else:\n",
    "    print(\"Null Hypothesis cannot be rejected. We can continue to assume that the lady cannot tell the difference between tea first or milk first.\")"
   ]
  },
  {
   "cell_type": "markdown",
   "metadata": {},
   "source": [
    "For at most 2 errors, the probability > alpha. At significance level alpha = 0.05, we cannot reject the null hypothesis, so we continue to assume that the lady cannot tell the difference between tea first or milk first."
   ]
  },
  {
   "cell_type": "markdown",
   "metadata": {},
   "source": [
    "## Conclusion\n",
    "\n",
    "For guessing 6 milk first cups correctly, the probability (p) is 0.001. For making at most 1 error, the p is 0.04. At  significance level alpha=0.05, p < alpha, so we can reject the null hypothesis. If the lady guesses at least 5 correct milk first cups, there is evidence to conclude that the lady can tell the difference between tea first or milk first.\n",
    "\n",
    "If the lady makes 2 errors, the p > alpha, so we cannot reject the null hypothesis. Therefore, we continue to assume that the lady cannot tell the difference between tea first or milk first."
   ]
  },
  {
   "cell_type": "markdown",
   "metadata": {},
   "source": [
    "## References\n",
    "\n",
    "McLloughlin, I. (2024). GitHub - ianmcloughlin/2425_applied_statistics. [online] GitHub. Available at: https://github.com/ianmcloughlin/2425_applied_statistics [Accessed 21 Oct. 2024].\n",
    "\n",
    "Python Software Foundation (2024). math — Mathematical functions. [online] Python documentation. Available at: https://docs.python.org/3/library/math.html#math.comb [Accessed 21 Oct. 2024].\n",
    "\n",
    "Wikipedia Contributors (2019). Statistical significance. [online] Wikipedia. Available at: https://en.wikipedia.org/wiki/Statistical_significance [Accessed 21 Oct. 2024].\n",
    "\n",
    "***"
   ]
  },
  {
   "cell_type": "markdown",
   "metadata": {},
   "source": [
    "# Task 2: numpy's Normal Distribution\n",
    "\n",
    "In this task you will assess whether `numpy.random.normal()` properly generates normal values.\n",
    "To begin, generate a sample of one hundred thousand values using the function with mean `10.0` and standard deviation `3.0`.\n",
    "\n",
    "Use the `scipy.stats.shapiro()` function to test whether your sample came from a normal distribution.\n",
    "Explain the results and output.\n",
    "\n",
    "Plot a histogram of your values and plot the corresponding normal distribution probability density function on top of it."
   ]
  },
  {
   "cell_type": "markdown",
   "metadata": {},
   "source": [
    "## Plan\n",
    "\n",
    "- import libraries - numpy, scipy.stats shapiro, normal, matplotlib, import statsmodels as sm\n",
    "- instantiate variables - samplesize, mean, stddev, randsample\n",
    "- generate 100000 values with numpy.random.normal\n",
    "- qqplot\n",
    "- test for normality with scipy.stats.shapiro \n",
    "- plot a histogram with matplotlib\n",
    "    - on top, plot probability density function  - numpy.linspace, scipy.stats.norm"
   ]
  },
  {
   "cell_type": "markdown",
   "metadata": {},
   "source": [
    "## Methods and Implementation\n",
    "\n"
   ]
  },
  {
   "cell_type": "code",
   "execution_count": 58,
   "metadata": {},
   "outputs": [],
   "source": [
    "# import libraries\n",
    "import numpy as np\n",
    "import matplotlib.pyplot as plt\n",
    "import scipy.stats as stats\n",
    "from scipy.stats import norm\n",
    "import statsmodels as sm\n",
    "\n",
    "# instantiate variables\n",
    "samplesize = 100000\n",
    "mean = 10.0\n",
    "stddev = 3.0"
   ]
  },
  {
   "cell_type": "markdown",
   "metadata": {},
   "source": [
    "Then, generate 100000 values with numpy.random.normal <a href=\"https://numpy.org/doc/stable/reference/random/generated/numpy.random.normal.html\">(NumPy Developer, n.d.)</a>"
   ]
  },
  {
   "cell_type": "code",
   "execution_count": 59,
   "metadata": {},
   "outputs": [
    {
     "data": {
      "text/plain": [
       "array([10.25883375, 10.43946353, 14.50095239, ...,  5.56673467,\n",
       "       14.0372985 , 11.42145582])"
      ]
     },
     "execution_count": 59,
     "metadata": {},
     "output_type": "execute_result"
    }
   ],
   "source": [
    "randsample = np.random.normal(loc=10.0, scale=3.0, size=100000) # where loc = mean, scale=standard deviation, size=samplesize\n",
    "randsample # must be an array of sample data"
   ]
  },
  {
   "cell_type": "markdown",
   "metadata": {},
   "source": [
    "Then, qqplot was generated to form the assumption that the data is normally distributed using stats.probplot <a href=\"https://www.statsmodels.org/stable/generated/statsmodels.graphics.gofplots.qqplot.html\">(Perktold et al., 2009)</a> and as shown by <a href=\"https://github.com/ianmcloughlin/2425_applied_statistics\">McLoughlin (2024)</a>. QQplot compares the quantiles of the data with the quantiles of a theoretical distribution, which in this case is normal distribution <a href=\"https://www.statsmodels.org/stable/generated/statsmodels.graphics.gofplots.qqplot.html\">(Perktold et al., 2009)</a>."
   ]
  },
  {
   "cell_type": "code",
   "execution_count": 60,
   "metadata": {},
   "outputs": [
    {
     "data": {
      "image/png": "[encoded data removed]",
      "text/plain": [
       "<Figure size 640x480 with 1 Axes>"
      ]
     },
     "metadata": {},
     "output_type": "display_data"
    }
   ],
   "source": [
    "# Create an empty plot.\n",
    "fig, ax = plt.subplots()\n",
    "\n",
    "# Create a q-q plot.\n",
    "stats.probplot(randsample, dist='norm', plot=ax); # normal distribution"
   ]
  },
  {
   "cell_type": "markdown",
   "metadata": {},
   "source": [
    "The probability plot shows that the data mostly follows a straight line, thus suggesting that it approximately follows a normal distribution."
   ]
  },
  {
   "cell_type": "markdown",
   "metadata": {},
   "source": [
    "Next, the test for normality was performed with Shapiro-Wilk test <a href=\"https://scipy.github.io/devdocs/reference/generated/scipy.stats.shapiro.html\">The SciPy community (2024)</a>. It states that while the Shapiro-Wilk statistic is accurate (a value between 0 and 1 shows how well the data fits a normal distribution), the p-value may not be.\n",
    "\n",
    "For Shapiro-Wilk test, the Null Hypothesis assumes that the data is normally distributed <a href=\"https://scipy.github.io/devdocs/reference/generated/scipy.stats.shapiro.html\">(The SciPy community, 2024)</a>. \n",
    "\n",
    "The Alternative Hypothesis assumes that data is not normally distributed."
   ]
  },
  {
   "cell_type": "code",
   "execution_count": 61,
   "metadata": {},
   "outputs": [
    {
     "name": "stderr",
     "output_type": "stream",
     "text": [
      "c:\\Users\\radzi\\anaconda3\\Lib\\site-packages\\scipy\\stats\\_axis_nan_policy.py:531: UserWarning: scipy.stats.shapiro: For N > 5000, computed p-value may not be accurate. Current N is 100000.\n",
      "  res = hypotest_fun_out(*samples, **kwds)\n"
     ]
    },
    {
     "data": {
      "text/plain": [
       "(0.9999797059893941,\n",
       " 0.9098626987160731,\n",
       " 0.9997116762352334,\n",
       " 0.7414515897689241)"
      ]
     },
     "execution_count": 61,
     "metadata": {},
     "output_type": "execute_result"
    }
   ],
   "source": [
    "shapirotest, pshapiro = stats.shapiro(randsample)\n",
    "# warning: p-value may not be accurate for N > 5000.\n",
    "\n",
    "# So test with subsample and compare results\n",
    "shapirotest5k, pshapiro5k = stats.shapiro(randsample[:5000]) # try\n",
    "\n",
    "shapirotest, pshapiro, shapirotest5k, pshapiro5k\n"
   ]
  },
  {
   "cell_type": "code",
   "execution_count": 62,
   "metadata": {},
   "outputs": [
    {
     "name": "stdout",
     "output_type": "stream",
     "text": [
      "Null Hypothesis cannot be rejected. There is no evidence to suggest that data is not normally distributed.\n"
     ]
    }
   ],
   "source": [
    "if pshapiro < alpha:\n",
    "    print(\"Null Hypothesis is rejected. There is evidence to conclude that data is not normally distributed.\")\n",
    "else:\n",
    "    print(\"Null Hypothesis cannot be rejected. There is no evidence to suggest that data is not normally distributed.\")"
   ]
  },
  {
   "cell_type": "markdown",
   "metadata": {},
   "source": [
    "p-values are big for both randsample and subsample. In this task, results from randsample will be used.\n",
    "\n",
    "Because pshapiro > alpha, Null Hypothesis cannot be rejected, as there is no evidence to suggest that data is not normally distributed.\n",
    "\n",
    "Next, we plot the histogram of the sample according to <a href=\"https://matplotlib.org/stable/api/_as_gen/matplotlib.pyplot.hist.html\">Hunter et al. (n.d.)</a>, <a href=\"https://numpy.org/doc/stable/reference/generated/numpy.histogram.html#numpy-histogram\">NumPy Developers (2024)</a> and <a href=\"https://github.com/ianmcloughlin/2425_applied_statistics\">McLoughlin (2024)</a>.\n",
    "\n",
    "To generate he probability density function over the histogram, the limits were set according to <a href=\"https://matplotlib.org/2.1.2/api/_as_gen/matplotlib.pyplot.xlim.html\">Hunter et al. (2017)</a>. Evenly-spaced values were generated with np.linspace <a href=\"https://numpy.org/doc/stable/reference/generated/numpy.linspace.html\">(NumPy Developers, n.d.)</a>. The normal distribution was calculated with scipy.stats.norm <a href=\"https://docs.scipy.org/doc/scipy/reference/generated/scipy.stats.norm.html\">(The SciPy community, n.d.)</a>. Finally, the line plot was created with plt.plot <a href=\"https://matplotlib.org/stable/api/_as_gen/matplotlib.pyplot.plot.html\">(Hunter et al., n.d.)</a>."
   ]
  },
  {
   "cell_type": "code",
   "execution_count": 63,
   "metadata": {},
   "outputs": [
    {
     "data": {
      "image/png": "[encoded data removed]",
      "text/plain": [
       "<Figure size 800x500 with 1 Axes>"
      ]
     },
     "metadata": {},
     "output_type": "display_data"
    }
   ],
   "source": [
    "fig, ax = plt.subplots(figsize=(8, 5))\n",
    "\n",
    "# Plot histogram\n",
    "ax.hist(randsample, color='g', edgecolor='black', density=True, bins=31)\n",
    "\n",
    "# Plot the corresponding normal distribution probability density function\n",
    "xmin, xmax = plt.xlim() # set limits of the x-axis\n",
    "x = np.linspace(xmin, xmax, 101) # generate 101 equally-spaced values\n",
    "pdf = norm.pdf(x, mean, stddev)\n",
    "plt.plot(x, pdf, 'r', linewidth=3, label=\"Probability Density Function\") # line plot overlaying histogram\n",
    "plt.legend()\n",
    "plt.title('Distribution and Probability Density Function of 100000 Random Samples');"
   ]
  },
  {
   "cell_type": "markdown",
   "metadata": {},
   "source": [
    "## Conclusion\n",
    "\n",
    "A QQplot suggests that the random sample approximately follows a normal distribution.The random sample generated was normally distributed according to Shapiro-Wilk test. A histogram with overlaying corresponding normal distribution probability density function was generated."
   ]
  },
  {
   "cell_type": "markdown",
   "metadata": {},
   "source": [
    "## References\n",
    "\n",
    "Hunter, J., Dale, D., Firing, E., Droettboom, M. and Matplotlib development team (n.d.). matplotlib.pyplot.hist — Matplotlib 3.5.1 documentation. [online] matplotlib.org. Available at: https://matplotlib.org/stable/api/_as_gen/matplotlib.pyplot.hist.html.\n",
    "\n",
    "Hunter, J., Dale, D., Firing, E., Droettboom, M. and Matplotlib development team (n.d.). matplotlib.pyplot.plot — Matplotlib 3.4.1 documentation. [online] matplotlib.org. Available at: https://matplotlib.org/stable/api/_as_gen/matplotlib.pyplot.plot.html.\n",
    "\n",
    "Hunter, J., Dale, D., Firing, E., Droettboom, M. and Matplotlib development team (2017). matplotlib.pyplot.xlim — Matplotlib 2.1.2 documentation. [online] Matplotlib.org. Available at: https://matplotlib.org/2.1.2/api/_as_gen/matplotlib.pyplot.xlim.html.\n",
    "\n",
    "McLloughlin, I. (2024). GitHub - ianmcloughlin/2425_applied_statistics. [online] GitHub. Available at: https://github.com/ianmcloughlin/2425_applied_statistics [Accessed 22 Oct. 2024].\n",
    "\n",
    "NumPy Developer (n.d.). numpy.random.normal — NumPy v1.21 Manual. [online] numpy.org. Available at: https://numpy.org/doc/stable/reference/random/generated/numpy.random.normal.html [Accessed 22 Oct. 2024].\n",
    "\n",
    "NumPy Developers (2024). numpy.histogram — NumPy v2.1 Manual. [online] Numpy.org. Available at: https://numpy.org/doc/stable/reference/generated/numpy.histogram.html#numpy-histogram [Accessed 24 Oct. 2024].\n",
    "\n",
    "NumPy Developers (n.d.). numpy.linspace — NumPy v1.23 Manual. [online] numpy.org. Available at: https://numpy.org/doc/stable/reference/generated/numpy.linspace.html [Accessed 22 Oct. 2024].\n",
    "\n",
    "Perktold, J., Seabold, S., Taylor, J. and statsmodels-developers (2009). statsmodels.graphics.gofplots.qqplot - statsmodels 0.14.1. [online] www.statsmodels.org. Available at: https://www.statsmodels.org/stable/generated/statsmodels.graphics.gofplots.qqplot.html [Accessed 5 Nov. 2024].\n",
    "\n",
    "The SciPy community (n.d.). scipy.stats.norm — SciPy v1.5.4 Reference Guide. [online] docs.scipy.org. Available at: https://docs.scipy.org/doc/scipy/reference/generated/scipy.stats.norm.html [Accessed 24 Oct. 2024].\n",
    "\n",
    "The SciPy community (2024). shapiro — SciPy v1.15.0.dev Manual. [online] Github.io. Available at: https://scipy.github.io/devdocs/reference/generated/scipy.stats.shapiro.html [Accessed 22 Oct. 2024].\n",
    "\n",
    "\n",
    "***"
   ]
  },
  {
   "cell_type": "markdown",
   "metadata": {},
   "source": [
    "# Task 3: t-Test Calculation\n",
    "\n",
    "Consider the following dataset containing resting heart rates for patients before and after embarking on a two-week exercise program.\n",
    "\n",
    "| Patient ID |  0 |  1 |  2 |  3 |  4 |  5 |  6 |  7 |  8 |  9 |\n",
    "|:-----------|---:|---:|---:|---:|---:|---:|---:|---:|---:|---:|\n",
    "| Before     | 63 | 68 | 70 | 64 | 74 | 67 | 70 | 57 | 66 | 65 |\n",
    "| After      | 64 | 64 | 68 | 64 | 73 | 70 | 72 | 54 | 61 | 63 |\n",
    "\n",
    "Calculate the t-statistic based on this data set, using Python.\n",
    "Compare it to the value given by `scipy.stats`.\n",
    "Explain your work and list any sources used."
   ]
  },
  {
   "cell_type": "markdown",
   "metadata": {},
   "source": [
    "## Plan\n",
    "\n",
    "- Set null and alternative hypothesis\n",
    "- import libraries - scipy.stats <a href=\"https://docs.scipy.org/doc/scipy/reference/stats.html\">(The SciPy community, 2019)</a> as also shown by <a href=\"https://github.com/ianmcloughlin/2425_applied_statistics\">McLoughlin (2024)</a>\n",
    "- instantiate variables - before, after with np.array\n",
    "- calculate paired t-statistic with python (manually?)\n",
    "    - n\n",
    "    - degfree\n",
    "    - diff - bef - aft\n",
    "    - sumdiff\n",
    "    - diffsq\n",
    "    - sumdiffsq\n",
    "    - tcalc = (sumdiff / n) / (np.sqrt((sumdiffsq - (sumdiff**2 / n)) / np.multiply(degfree, n)))\n",
    "\n",
    "- calculate paired t-statistic with scipy.stat- paired t-test (related because the values are from the same patients)\n",
    "- compare the 2 results"
   ]
  },
  {
   "cell_type": "markdown",
   "metadata": {},
   "source": [
    "## Methods and Implementation\n",
    "\n",
    "Null Hypothesis assumes that before and after means are equal.\n",
    "\n",
    "Alternative Hypothesis assumes that before and after means are not equal."
   ]
  },
  {
   "cell_type": "markdown",
   "metadata": {},
   "source": [
    "To enable comparison, the two sets of multiple values from the table are organized in a structured way using np.array <a href=\"https://numpy.org/doc/stable/reference/generated/numpy.array.html\">(NumPy Developers, n.d.)</a>. Manual calculation of paired or dependent t-test was performed because the two sets of samples are related (the values are from the same patients) according to <a href=\"https://www.statisticshowto.com/probability-and-statistics/t-test/#PairedTTest\">Statistics How To (n.d.)</a>. \n",
    "numpy.sum was calculated according to <a href=\"https://numpy.org/doc/stable/reference/generated/numpy.sum.html\">NumPy Developers (n.d.)</a>.\n",
    "numpy.square was done as shown by <a href=\"https://numpy.org/doc/stable/reference/generated/numpy.square.html\">NumPy Developers (n.d.)</a>.\n",
    "numpy.sqrt was performed as seen in <a href=\"https://www.codecademy.com/resources/docs/numpy/math-methods/sqrt\">Maxwell (2024)</a>.\n",
    "numpy.multiply was calculated according to <a href=\"https://numpy.org/devdocs/reference/generated/numpy.multiply.html\">NumPy Developers (2024b)</a>."
   ]
  },
  {
   "cell_type": "code",
   "execution_count": 64,
   "metadata": {},
   "outputs": [
    {
     "data": {
      "text/plain": [
       "1.337227482480628"
      ]
     },
     "execution_count": 64,
     "metadata": {},
     "output_type": "execute_result"
    }
   ],
   "source": [
    "# import library\n",
    "import numpy as np\n",
    "from scipy import stats\n",
    "\n",
    "# instantiate variables\n",
    "bef = np.array([63, 68, 70, 64, 74, 67, 70, 57, 66, 65])\n",
    "aft = np.array([64, 64, 68, 64, 73, 70, 72, 54, 61, 63])\n",
    "\n",
    "n = len(bef)\n",
    "degfree = n - 1\n",
    "diff = bef-aft\n",
    "sumdiff = np.sum(diff)\n",
    "sumdiffsq = np.sum(np.square(diff))\n",
    "\n",
    "# manually calculate t-statistic value\n",
    "tcalc = (sumdiff / n) / (np.sqrt((sumdiffsq - (sumdiff**2 / n)) / np.multiply(degfree, n)))\n",
    "tcalc"
   ]
  },
  {
   "cell_type": "markdown",
   "metadata": {},
   "source": [
    "Then, paired t-test was performed with scipy.stats.ttest_rel <a href=\"https://docs.scipy.org/doc/scipy/reference/generated/scipy.stats.ttest_rel.html#scipy.stats.ttest_rel\">(The SciPy community, n.d.)</a>. The 'alternative' was set to 'two-sided' because unless specified, I am only interested in any change between the two means."
   ]
  },
  {
   "cell_type": "code",
   "execution_count": 65,
   "metadata": {},
   "outputs": [
    {
     "data": {
      "text/plain": [
       "(1.337227482480628, 0.21396011317404623)"
      ]
     },
     "execution_count": 65,
     "metadata": {},
     "output_type": "execute_result"
    }
   ],
   "source": [
    "# Perform related t-test\n",
    "# two-sided because I am only interested in any change between the two means\n",
    "tscipy, tpval = stats.ttest_rel(bef, aft, alternative='two-sided')\n",
    "tscipy, tpval"
   ]
  },
  {
   "cell_type": "markdown",
   "metadata": {},
   "source": [
    "Values from tcalc and ttest were compared using np.isclose <a href=\"https://numpy.org/doc/2.1/reference/generated/numpy.isclose.html\">NumPy Developers (2024a)</a>. The 'atol' was set to 0 to see if the tcalc and tscipy values are identical."
   ]
  },
  {
   "cell_type": "code",
   "execution_count": 66,
   "metadata": {},
   "outputs": [
    {
     "name": "stdout",
     "output_type": "stream",
     "text": [
      "Yes\n"
     ]
    }
   ],
   "source": [
    "if np.isclose(tcalc, tscipy, atol=0.0):\n",
    "    print(\"Yes\")\n",
    "else:\n",
    "    print(\"No\")"
   ]
  },
  {
   "cell_type": "code",
   "execution_count": 67,
   "metadata": {},
   "outputs": [
    {
     "name": "stdout",
     "output_type": "stream",
     "text": [
      "Null Hypothesis cannot be rejected. We can continue to assume that before and after means are equal.\n"
     ]
    }
   ],
   "source": [
    "if tpval < alpha:\n",
    "    print(\"Null Hypothesis is rejected. There is evidence to conclude that before and after means are not equal.\")\n",
    "    \n",
    "else:\n",
    "    print(\"Null Hypothesis cannot be rejected. We can continue to assume that before and after means are equal.\")"
   ]
  },
  {
   "cell_type": "markdown",
   "metadata": {},
   "source": [
    "## Conclusion\n",
    "\n",
    "The t-statistic values from paired t-statistic using manual calculation and scipy.stat are identical. Because p-value (tpval)> alpha, Null Hypothesis cannot be rejected. We can continue to assume that before and after exercise means are equal."
   ]
  },
  {
   "cell_type": "markdown",
   "metadata": {},
   "source": [
    "## References\n",
    "\n",
    "Maxwell, K. (2024). Python:NumPy | Math Methods | .sqrt() | Codecademy. [online] Codecademy. Available at: https://www.codecademy.com/resources/docs/numpy/math-methods/sqrt [Accessed 26 Oct. 2024].\n",
    "\n",
    "McLloughlin, I. (2024). GitHub - ianmcloughlin/2425_applied_statistics. [online] GitHub. Available at: https://github.com/ianmcloughlin/2425_applied_statistics [Accessed 23 Oct. 2024].\n",
    "\n",
    "NumPy Developers (n.d.). numpy.array — NumPy v1.19 Manual. [online] numpy.org. Available at: https://numpy.org/doc/stable/reference/generated/numpy.array.html [Accessed 24 Oct. 2024].\n",
    "\n",
    "NumPy Developers (2024a). numpy.isclose — NumPy v2.1 Manual. [online] Numpy.org. Available at: https://numpy.org/doc/2.1/reference/generated/numpy.isclose.html [Accessed 26 Oct. 2024].\n",
    "\n",
    "NumPy Developers (2024b). numpy.multiply — NumPy v2.2.dev0 Manual. [online] Numpy.org. Available at: https://numpy.org/devdocs/reference/generated/numpy.multiply.html [Accessed 26 Oct. 2024].\n",
    "\n",
    "NumPy Developers (n.d.). numpy.square — NumPy v1.23 Manual. [online] numpy.org. Available at: https://numpy.org/doc/stable/reference/generated/numpy.square.html [Accessed 26 Oct. 2024].\n",
    "\n",
    "NumPy Developers (n.d.). numpy.sum — NumPy v1.19 Manual. [online] numpy.org. Available at: https://numpy.org/doc/stable/reference/generated/numpy.sum.html [Accessed 26 Oct. 2024].Statistics How To (n.d.). T Test (Student’s T-Test): Definition and Examples. [online] \n",
    "\n",
    "Statistics How To. Available at: https://www.statisticshowto.com/probability-and-statistics/t-test/#PairedTTest [Accessed 26 Oct. 2024].\n",
    "\n",
    "The SciPy community (n.d.). scipy.stats.ttest_rel — SciPy v1.11.4 Manual. [online] docs.scipy.org. Available at: https://docs.scipy.org/doc/scipy/reference/generated/scipy.stats.ttest_rel.html#scipy.stats.ttest_rel [Accessed 24 Oct. 2024].\n",
    "\n",
    "The SciPy community (2019). Statistical functions (scipy.stats) — SciPy v1.3.3 reference guide. [online] Scipy.org. Available at: https://docs.scipy.org/doc/scipy/reference/stats.html [Accessed 23 Oct. 2024].\n",
    "\n",
    "***"
   ]
  },
  {
   "cell_type": "markdown",
   "metadata": {},
   "source": [
    "# Task 4: ANOVA\n",
    "\n",
    "In this test we will estimate the probability of committing a type II error in specific circumstances.\n",
    "To begin, create a variable called `no_type_ii` and set it to `0`.\n",
    "\n",
    "Now use a loop to perform the following test 10,000 times.\n",
    "\n",
    "1. Use `numpy.random.normal` to generate three samples with 100 values each. Give each a standard deviation of `0.1`. Give the first sample a mean of `4.9`, the second a mean of `5.0`, and the third a mean of `5.1`. \n",
    "\n",
    "2. Perform one-way anova on the three samples and add `1` to `no_type_ii` whenever a type II error occurs.\n",
    "\n",
    "Summarize and explain your results."
   ]
  },
  {
   "cell_type": "markdown",
   "metadata": {},
   "source": [
    "## Plan\n",
    "\n",
    "- Set null and alternative hypothesis\n",
    "- import libraries - numpy\n",
    "- instantiate variables - no_type_ii=0, reps=10000, size=100, stddev=0.1, alpha, one, two, three, means = [4.9, 5.0, 5.1]\n",
    "- for loop\n",
    "- one-way anova, if statement"
   ]
  },
  {
   "cell_type": "markdown",
   "metadata": {},
   "source": [
    "## Methods and Implementation\n",
    "\n",
    "Null Hypothesis assumes that all three means are equal.\n",
    "\n",
    "Alternative Hypothesis assumes that all three means are not equal."
   ]
  },
  {
   "cell_type": "code",
   "execution_count": 68,
   "metadata": {},
   "outputs": [],
   "source": [
    "# import libraries\n",
    "import numpy as np\n",
    "from scipy import stats\n",
    "\n",
    "# instantiate variables\n",
    "no_type_ii = 0\n",
    "reps = 10000\n",
    "samplesize = 100\n",
    "stddev = 0.1\n",
    "alpha = 0.05\n",
    "\n",
    "means = [4.9, 5.0, 5.1]"
   ]
  },
  {
   "cell_type": "markdown",
   "metadata": {},
   "source": [
    "Perform test 10000 times using for loop <a href=\"https://stackoverflow.com/questions/71625642/python-range-and-for-loop-understanding\">(Stack Exchange Inc, 2022)</a> and range function <a href=\"https://pynative.com/python-range-function/\">(Hule, 2019)</a>.\n",
    "\n",
    "Generate with 100 values each using numpy.random.normal <a href=\"https://numpy.org/doc/stable/reference/random/generated/numpy.random.normal.html\">(NumPy Developer, n.d.)</a> as also shown by <a href=\"https://github.com/ianmcloughlin/2425_applied_statistics\">McLoughlin (2024)</a>."
   ]
  },
  {
   "cell_type": "code",
   "execution_count": 69,
   "metadata": {},
   "outputs": [],
   "source": [
    "for i in range(reps):\n",
    "    one = np.random.normal(loc=means[0], scale=stddev, size=samplesize)\n",
    "    two = np.random.normal(loc=means[1], scale=stddev, size=samplesize)\n",
    "    three = np.random.normal(loc=means[2], scale=stddev, size=samplesize)"
   ]
  },
  {
   "cell_type": "markdown",
   "metadata": {},
   "source": [
    "One-way ANOVA was performed on the three samples according to <a href=\"https://docs.scipy.org/doc/scipy/reference/generated/scipy.stats.f_oneway.html\">The SciPy community (2014)</a> by comparing the variance within each sample to the variance between samples. Type II error (false negative) occurs when we fail to reject null hypothesis when we should have been able to do so <a href=\"https://en.wikipedia.org/wiki/Type_I_and_type_II_errors\">(Wikipedia, 2021)</a>. Type II error could happen because the difference in means is minute and could be hidden by within-group variability. Because we reject the null hypothesis if p-value is less than α = .05 <a href=\"https://en.wikipedia.org/wiki/One-way_analysis_of_variance\">(Wikipedia Contributors, 2019)</a>, therefore Type II error occurs when p-value is more than α."
   ]
  },
  {
   "cell_type": "code",
   "execution_count": 70,
   "metadata": {},
   "outputs": [
    {
     "data": {
      "text/plain": [
       "0"
      ]
     },
     "execution_count": 70,
     "metadata": {},
     "output_type": "execute_result"
    }
   ],
   "source": [
    "fstat,fpval = stats.f_oneway(one, two, three)\n",
    "\n",
    "if fpval > alpha:\n",
    "        no_type_ii + 1\n",
    "no_type_ii"
   ]
  },
  {
   "cell_type": "code",
   "execution_count": 71,
   "metadata": {},
   "outputs": [
    {
     "name": "stdout",
     "output_type": "stream",
     "text": [
      "Null Hypothesis is rejected. There is evidence to conclude that all three means are not equal.\n"
     ]
    }
   ],
   "source": [
    "if fpval < alpha:\n",
    "    print(\"Null Hypothesis is rejected. There is evidence to conclude that all three means are not equal.\")\n",
    "    \n",
    "else:\n",
    "    print(\"Null Hypothesis cannot be rejected. We can continue to assume that all three means are equal.\")"
   ]
  },
  {
   "cell_type": "markdown",
   "metadata": {},
   "source": [
    "The result 0 shows that no type II errors occured across the three unrelated samples of 10000 runs. Using one-way ANOVA, p-value < alpha, so Null Hypothesis is rejected. There is evidence to conclude that all three means are not equal."
   ]
  },
  {
   "cell_type": "markdown",
   "metadata": {},
   "source": [
    "## Conclusion\n",
    "\n",
    "No type II errors (False Negatives) occured across the three unrelated samples of 10000 runs. Based on one-way ANOVA, Null Hypothesis is rejected. There is evidence to conclude that all three means are not equal."
   ]
  },
  {
   "cell_type": "markdown",
   "metadata": {},
   "source": [
    "## References\n",
    "\n",
    "Reference listHule, V. (2019). Python range() Explained with Examples. [online] PYnative. Available at: https://pynative.com/python-range-function/.\n",
    "\n",
    "McLloughlin, I. (2024). GitHub - ianmcloughlin/2425_applied_statistics. [online] GitHub. Available at: https://github.com/ianmcloughlin/2425_applied_statistics [Accessed 22 Oct. 2024].\n",
    "\n",
    "NumPy Developer (n.d.). numpy.random.normal — NumPy v1.21 Manual. [online] numpy.org. Available at: https://numpy.org/doc/stable/reference/random/generated/numpy.random.normal.html [Accessed 23 Oct. 2024].\n",
    "\n",
    "Stack Exchange Inc (2022). python range and for loop understanding. [online] Stack Overflow. Available at: https://stackoverflow.com/questions/71625642/python-range-and-for-loop-understanding [Accessed 23 Oct. 2024].\n",
    "\n",
    "The SciPy community (2014). scipy.stats.f_oneway — SciPy v1.3.1 Reference Guide. [online] Scipy.org. Available at: https://docs.scipy.org/doc/scipy/reference/generated/scipy.stats.f_oneway.html [Accessed 23 Oct. 2024].\n",
    "\n",
    "Wikipedia Contributors (2019). One-way analysis of variance. [online] Wikipedia. Available at: https://en.wikipedia.org/wiki/One-way_analysis_of_variance [Accessed 27 Oct. 2024].\n",
    "\n",
    "Wikipedia. (2021). Type I and type II errors. [online] Available at: https://en.wikipedia.org/wiki/Type_I_and_type_II_errors [Accessed 27 Oct. 2024]."
   ]
  },
  {
   "cell_type": "markdown",
   "metadata": {},
   "source": [
    "***\n",
    "\n",
    "## End of tasks.ipynb"
   ]
  }
 ],
 "metadata": {
  "kernelspec": {
   "display_name": "base",
   "language": "python",
   "name": "python3"
  },
  "language_info": {
   "codemirror_mode": {
    "name": "ipython",
    "version": 3
   },
   "file_extension": ".py",
   "mimetype": "text/x-python",
   "name": "python",
   "nbconvert_exporter": "python",
   "pygments_lexer": "ipython3",
   "version": "3.12.4"
  }
 },
 "nbformat": 4,
 "nbformat_minor": 2
}
